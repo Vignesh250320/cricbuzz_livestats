{
 "cells": [
  {
   "cell_type": "markdown",
   "metadata": {},
   "source": [
    "# Cricbuzz API Data Fetching\n",
    "\n",
    "This notebook demonstrates how to fetch cricket data from Cricbuzz API and push it to the database."
   ]
  },
  {
   "cell_type": "code",
   "execution_count": null,
   "metadata": {},
   "outputs": [],
   "source": [
    "import sys\n",
    "sys.path.append('..')\n",
    "\n",
    "import requests\n",
    "import mysql.connector\n",
    "from mysql.connector import Error\n",
    "import os\n",
    "from dotenv import load_dotenv\n",
    "import pandas as pd"
   ]
  },
  {
   "cell_type": "markdown",
   "metadata": {},
   "source": [
    "## Load Environment Variables"
   ]
  },
  {
   "cell_type": "code",
   "execution_count": null,
   "metadata": {},
   "outputs": [],
   "source": [
    "load_dotenv('../.env')\n",
    "\n",
    "# API Configuration\n",
    "RAPIDAPI_KEY = \"931ecde80cmsh80f2dc04d04d93ap136a0ejsnb76565e7402a\"\n",
    "RAPIDAPI_HOST = \"cricbuzz-cricket.p.rapidapi.com\"\n",
    "BASE_URL = f\"https://{RAPIDAPI_HOST}\"\n",
    "\n",
    "HEADERS = {\n",
    "    \"x-rapidapi-key\": RAPIDAPI_KEY,\n",
    "    \"x-rapidapi-host\": RAPIDAPI_HOST\n",
    "}"
   ]
  },
  {
   "cell_type": "markdown",
   "metadata": {},
   "source": [
    "## Connect to Database"
   ]
  },
  {
   "cell_type": "code",
   "execution_count": null,
   "metadata": {},
   "outputs": [],
   "source": [
    "def get_db_connection():\n",
    "    try:\n",
    "        conn = mysql.connector.connect(\n",
    "            host='localhost',\n",
    "            user=os.getenv('DB_USER', 'root'),\n",
    "            password=os.getenv('DB_PASSWORD', 'vicky@123'),\n",
    "            database=os.getenv('DB_NAME', 'cricbuzz_db')\n",
    "        )\n",
    "        if conn.is_connected():\n",
    "            print(\"✅ Database connected successfully\")\n",
    "            return conn\n",
    "    except Error as e:\n",
    "        print(f\"❌ Database connection error: {e}\")\n",
    "        return None\n",
    "\n",
    "conn = get_db_connection()"
   ]
  },
  {
   "cell_type": "markdown",
   "metadata": {},
   "source": [
    "## Fetch Teams Data"
   ]
  },
  {
   "cell_type": "code",
   "execution_count": null,
   "metadata": {},
   "outputs": [],
   "source": [
    "def fetch_teams():\n",
    "    endpoint = f\"{BASE_URL}/stats/v1/rankings/teams?formatType=test\"\n",
    "    response = requests.get(endpoint, headers=HEADERS)\n",
    "    \n",
    "    if response.status_code == 200:\n",
    "        data = response.json()\n",
    "        print(f\"✅ Fetched teams data\")\n",
    "        return data\n",
    "    else:\n",
    "        print(f\"❌ Error: {response.status_code}\")\n",
    "        return None\n",
    "\n",
    "teams_data = fetch_teams()"
   ]
  },
  {
   "cell_type": "markdown",
   "metadata": {},
   "source": [
    "## Fetch Recent Matches"
   ]
  },
  {
   "cell_type": "code",
   "execution_count": null,
   "metadata": {},
   "outputs": [],
   "source": [
    "def fetch_recent_matches():\n",
    "    endpoint = f\"{BASE_URL}/matches/v1/recent\"\n",
    "    response = requests.get(endpoint, headers=HEADERS)\n",
    "    \n",
    "    if response.status_code == 200:\n",
    "        data = response.json()\n",
    "        print(f\"✅ Fetched recent matches\")\n",
    "        return data\n",
    "    else:\n",
    "        print(f\"❌ Error: {response.status_code}\")\n",
    "        return None\n",
    "\n",
    "matches_data = fetch_recent_matches()"
   ]
  },
  {
   "cell_type": "markdown",
   "metadata": {},
   "source": [
    "## Insert Data to Database"
   ]
  },
  {
   "cell_type": "code",
   "execution_count": null,
   "metadata": {},
   "outputs": [],
   "source": [
    "# Example: Insert teams\n",
    "if conn and teams_data:\n",
    "    cursor = conn.cursor()\n",
    "    \n",
    "    # Insert logic here\n",
    "    # cursor.execute(\"INSERT INTO teams ...\")\n",
    "    \n",
    "    conn.commit()\n",
    "    cursor.close()\n",
    "    print(\"✅ Data inserted successfully\")"
   ]
  },
  {
   "cell_type": "markdown",
   "metadata": {},
   "source": [
    "## View Data"
   ]
  },
  {
   "cell_type": "code",
   "execution_count": null,
   "metadata": {},
   "outputs": [],
   "source": [
    "# Query and display data\n",
    "if conn:\n",
    "    df = pd.read_sql(\"SELECT * FROM teams LIMIT 10\", conn)\n",
    "    display(df)"
   ]
  },
  {
   "cell_type": "code",
   "execution_count": null,
   "metadata": {},
   "outputs": [],
   "source": [
    "# Close connection\n",
    "if conn:\n",
    "    conn.close()\n",
    "    print(\"🔌 Database connection closed\")"
   ]
  }
 ],
 "metadata": {
  "kernelspec": {
   "display_name": "Python 3",
   "language": "python",
   "name": "python3"
  },
  "language_info": {
   "codemirror_mode": {
    "name": "ipython",
    "version": 3
   },
   "file_extension": ".py",
   "mimetype": "text/x-python",
   "name": "python",
   "nbconvert_exporter": "python",
   "pygments_lexer": "ipython3",
   "version": "3.8.0"
  }
 },
 "nbformat": 4,
 "nbformat_minor": 4
}
